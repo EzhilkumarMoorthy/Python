{
 "cells": [
  {
   "cell_type": "code",
   "execution_count": 3,
   "metadata": {},
   "outputs": [
    {
     "name": "stdout",
     "output_type": "stream",
     "text": [
      "1551878206.216981\n",
      "time.struct_time(tm_year=2019, tm_mon=3, tm_mday=6, tm_hour=18, tm_min=46, tm_sec=46, tm_wday=2, tm_yday=65, tm_isdst=0)\n",
      "Wed Mar  6 18:46:46 2019\n",
      "1546324932.0\n",
      "time.struct_time(tm_year=2019, tm_mon=1, tm_mday=1, tm_hour=12, tm_min=12, tm_sec=12, tm_wday=1, tm_yday=1, tm_isdst=0)\n"
     ]
    }
   ],
   "source": [
    "import time\n",
    "print(time.time())\n",
    "print(time.localtime(time.time()))\n",
    "print(time.asctime())\n",
    "mytuple = (2019,1,1,12,12,12,0,0,0)\n",
    "print(time.mktime(mytuple))\n",
    "print(time.localtime(time.mktime(mytuple)))"
   ]
  },
  {
   "cell_type": "code",
   "execution_count": 5,
   "metadata": {},
   "outputs": [
    {
     "name": "stdout",
     "output_type": "stream",
     "text": [
      "Hello you waited for 5 seconds to see this text\n"
     ]
    }
   ],
   "source": [
    "time.sleep(5)\n",
    "print(\"Hello you waited for 5 seconds to see this text\")"
   ]
  },
  {
   "cell_type": "code",
   "execution_count": 8,
   "metadata": {},
   "outputs": [
    {
     "name": "stdout",
     "output_type": "stream",
     "text": [
      "      May 1989\n",
      "Mo Tu We Th Fr Sa Su\n",
      " 1  2  3  4  5  6  7\n",
      " 8  9 10 11 12 13 14\n",
      "15 16 17 18 19 20 21\n",
      "22 23 24 25 26 27 28\n",
      "29 30 31\n",
      "\n",
      "                                      1989\n",
      "\n",
      "      January                       February                       March\n",
      "Mo Tu We Th Fr Sa Su          Mo Tu We Th Fr Sa Su          Mo Tu We Th Fr Sa Su\n",
      "                   1                 1  2  3  4  5                 1  2  3  4  5\n",
      " 2  3  4  5  6  7  8           6  7  8  9 10 11 12           6  7  8  9 10 11 12\n",
      " 9 10 11 12 13 14 15          13 14 15 16 17 18 19          13 14 15 16 17 18 19\n",
      "16 17 18 19 20 21 22          20 21 22 23 24 25 26          20 21 22 23 24 25 26\n",
      "23 24 25 26 27 28 29          27 28                         27 28 29 30 31\n",
      "30 31\n",
      "\n",
      "       April                          May                           June\n",
      "Mo Tu We Th Fr Sa Su          Mo Tu We Th Fr Sa Su          Mo Tu We Th Fr Sa Su\n",
      "                1  2           1  2  3  4  5  6  7                    1  2  3  4\n",
      " 3  4  5  6  7  8  9           8  9 10 11 12 13 14           5  6  7  8  9 10 11\n",
      "10 11 12 13 14 15 16          15 16 17 18 19 20 21          12 13 14 15 16 17 18\n",
      "17 18 19 20 21 22 23          22 23 24 25 26 27 28          19 20 21 22 23 24 25\n",
      "24 25 26 27 28 29 30          29 30 31                      26 27 28 29 30\n",
      "\n",
      "        July                         August                      September\n",
      "Mo Tu We Th Fr Sa Su          Mo Tu We Th Fr Sa Su          Mo Tu We Th Fr Sa Su\n",
      "                1  2              1  2  3  4  5  6                       1  2  3\n",
      " 3  4  5  6  7  8  9           7  8  9 10 11 12 13           4  5  6  7  8  9 10\n",
      "10 11 12 13 14 15 16          14 15 16 17 18 19 20          11 12 13 14 15 16 17\n",
      "17 18 19 20 21 22 23          21 22 23 24 25 26 27          18 19 20 21 22 23 24\n",
      "24 25 26 27 28 29 30          28 29 30 31                   25 26 27 28 29 30\n",
      "31\n",
      "\n",
      "      October                       November                      December\n",
      "Mo Tu We Th Fr Sa Su          Mo Tu We Th Fr Sa Su          Mo Tu We Th Fr Sa Su\n",
      "                   1                 1  2  3  4  5                       1  2  3\n",
      " 2  3  4  5  6  7  8           6  7  8  9 10 11 12           4  5  6  7  8  9 10\n",
      " 9 10 11 12 13 14 15          13 14 15 16 17 18 19          11 12 13 14 15 16 17\n",
      "16 17 18 19 20 21 22          20 21 22 23 24 25 26          18 19 20 21 22 23 24\n",
      "23 24 25 26 27 28 29          27 28 29 30                   25 26 27 28 29 30 31\n",
      "30 31\n",
      "\n"
     ]
    }
   ],
   "source": [
    "import calendar as cal\n",
    "print(cal.month(1989,5))\n",
    "print(cal.calendar(1989,2,1,10))"
   ]
  },
  {
   "cell_type": "code",
   "execution_count": 9,
   "metadata": {},
   "outputs": [
    {
     "name": "stdout",
     "output_type": "stream",
     "text": [
      "True\n",
      "False\n"
     ]
    }
   ],
   "source": [
    "print(cal.isleap(2008))\n",
    "print(cal.isleap(2009))"
   ]
  },
  {
   "cell_type": "code",
   "execution_count": null,
   "metadata": {},
   "outputs": [],
   "source": []
  }
 ],
 "metadata": {
  "kernelspec": {
   "display_name": "Python 3",
   "language": "python",
   "name": "python3"
  },
  "language_info": {
   "codemirror_mode": {
    "name": "ipython",
    "version": 3
   },
   "file_extension": ".py",
   "mimetype": "text/x-python",
   "name": "python",
   "nbconvert_exporter": "python",
   "pygments_lexer": "ipython3",
   "version": "3.7.1"
  }
 },
 "nbformat": 4,
 "nbformat_minor": 2
}
