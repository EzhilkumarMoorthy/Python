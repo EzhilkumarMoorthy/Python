{
 "cells": [
  {
   "cell_type": "code",
   "execution_count": 6,
   "metadata": {},
   "outputs": [
    {
     "name": "stdout",
     "output_type": "stream",
     "text": [
      "Hello\n"
     ]
    }
   ],
   "source": [
    "# There are three modes available to read,write and append the content in file.\n",
    "# Modes - r -> Read, w -> Write, a -> append\n",
    "\n",
    "#Reading the file\n",
    "myobj = open(\"C:\\\\Users\\\\Ezhilkumar\\\\Jupyter Notebooks\\\\test.txt\",\"r\")\n",
    "text = myobj.read()\n",
    "print(text)\n",
    "myobj.close()"
   ]
  },
  {
   "cell_type": "code",
   "execution_count": 7,
   "metadata": {},
   "outputs": [
    {
     "name": "stdout",
     "output_type": "stream",
     "text": [
      "Written Successfully\n",
      "This is new file.\n",
      "Writing second line now\n"
     ]
    }
   ],
   "source": [
    "#Writing the file, new file will be created if doesn't exists in the path\n",
    "writeobj = open(\"C:\\\\Users\\\\Ezhilkumar\\\\Jupyter Notebooks\\\\newtextfile.txt\",\"w\") #File will be craeted if not exists\n",
    "writeobj.write(\"\"\"This is new file.\n",
    "Writing second line now\"\"\")\n",
    "writeobj.close()\n",
    "print(\"Written Successfully\")\n",
    "\n",
    "readobj = open(\"C:\\\\Users\\\\Ezhilkumar\\\\Jupyter Notebooks\\\\newtextfile.txt\",\"r\")\n",
    "mytext  = readobj.read()\n",
    "print(mytext)\n",
    "readobj.close()"
   ]
  },
  {
   "cell_type": "code",
   "execution_count": 8,
   "metadata": {},
   "outputs": [],
   "source": [
    "#Append the file\n",
    "myobj = open(\"C:\\\\Users\\\\Ezhilkumar\\\\Jupyter Notebooks\\\\newtextfile.txt\",\"a\")\n",
    "text = myobj.write(\"\\nFile has been appended\")\n",
    "myobj.close()\n",
    "print(\"Appended Successfully\")"
   ]
  },
  {
   "cell_type": "code",
   "execution_count": 9,
   "metadata": {},
   "outputs": [],
   "source": [
    "import os\n",
    "#Renaming filename\n",
    "os.rename(\"C:\\\\Users\\\\Ezhilkumar\\\\Jupyter Notebooks\\\\newtextfile.txt\",\"C:\\\\Users\\\\Ezhilkumar\\\\Jupyter Notebooks\\\\newtextfile1.txt\")\n"
   ]
  },
  {
   "cell_type": "code",
   "execution_count": 10,
   "metadata": {},
   "outputs": [],
   "source": [
    "#Deleting file\n",
    "os.remove(\"C:\\\\Users\\\\Ezhilkumar\\\\Jupyter Notebooks\\\\newtextfile1.txt\")"
   ]
  },
  {
   "cell_type": "code",
   "execution_count": 11,
   "metadata": {},
   "outputs": [
    {
     "data": {
      "text/plain": [
       "'C:\\\\Users\\\\Ezhilkumar\\\\Jupyter Notebooks'"
      ]
     },
     "execution_count": 11,
     "metadata": {},
     "output_type": "execute_result"
    }
   ],
   "source": [
    "#To get the current working directory\n",
    "os.getcwd()"
   ]
  },
  {
   "cell_type": "code",
   "execution_count": 12,
   "metadata": {},
   "outputs": [],
   "source": [
    "os.mkdir(\"New Folder\") # Creating new directory in the current working directory"
   ]
  },
  {
   "cell_type": "code",
   "execution_count": 15,
   "metadata": {},
   "outputs": [
    {
     "name": "stdout",
     "output_type": "stream",
     "text": [
      "C:\\Users\\Ezhilkumar\\Jupyter Notebooks\\New Folder\n",
      "C:\\Users\\Ezhilkumar\\Jupyter Notebooks\n"
     ]
    }
   ],
   "source": [
    "os.chdir(\"C:\\\\Users\\\\Ezhilkumar\\\\Jupyter Notebooks\\\\New Folder\") #Chaning directory\n",
    "print(os.getcwd())\n",
    "os.chdir(\"C:\\\\Users\\\\Ezhilkumar\\\\Jupyter Notebooks\") #Chaning directory\n",
    "print(os.getcwd())"
   ]
  },
  {
   "cell_type": "code",
   "execution_count": 16,
   "metadata": {},
   "outputs": [],
   "source": [
    "os.rmdir(\"New Folder\") #Removing the mentioned directory"
   ]
  },
  {
   "cell_type": "code",
   "execution_count": null,
   "metadata": {},
   "outputs": [],
   "source": []
  }
 ],
 "metadata": {
  "kernelspec": {
   "display_name": "Python 3",
   "language": "python",
   "name": "python3"
  },
  "language_info": {
   "codemirror_mode": {
    "name": "ipython",
    "version": 3
   },
   "file_extension": ".py",
   "mimetype": "text/x-python",
   "name": "python",
   "nbconvert_exporter": "python",
   "pygments_lexer": "ipython3",
   "version": "3.7.1"
  }
 },
 "nbformat": 4,
 "nbformat_minor": 2
}
