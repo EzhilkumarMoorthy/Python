{
 "cells": [
  {
   "cell_type": "code",
   "execution_count": 1,
   "metadata": {},
   "outputs": [
    {
     "name": "stdout",
     "output_type": "stream",
     "text": [
      "Addition       -  20\n",
      "Subtraction    -  10\n",
      "Multiplication -  75\n",
      "Division       -  3.0\n"
     ]
    }
   ],
   "source": [
    "def calculator(a,b):\n",
    "    print(\"Addition       - \",a+b)\n",
    "    print(\"Subtraction    - \",a-b)\n",
    "    print(\"Multiplication - \",a*b)\n",
    "    print(\"Division       - \",a/b)\n",
    "    \n",
    "calculator(15,5)"
   ]
  },
  {
   "cell_type": "code",
   "execution_count": 2,
   "metadata": {},
   "outputs": [
    {
     "name": "stdout",
     "output_type": "stream",
     "text": [
      "Inside function  12\n",
      "Outside function  10\n"
     ]
    }
   ],
   "source": [
    "#Call by Value\n",
    "def sample(a):\n",
    "    a=12\n",
    "    print(\"Inside function \",a)\n",
    "    return\n",
    "\n",
    "a=10\n",
    "sample(a)\n",
    "print(\"Outside function \",a)\n"
   ]
  },
  {
   "cell_type": "code",
   "execution_count": 4,
   "metadata": {},
   "outputs": [
    {
     "name": "stdout",
     "output_type": "stream",
     "text": [
      "Before function call {1: 'Ezhil', 2: 'Manju', 3: 'Aravinth'}\n",
      "Inside function  {1: 'Ezhil', 2: 'Manju', 3: 'Aravinth', 4: 'Anu'}\n",
      "Outside function  {1: 'Ezhil', 2: 'Manju', 3: 'Aravinth', 4: 'Anu'}\n"
     ]
    }
   ],
   "source": [
    "#Call by Reference\n",
    "employee={1:'Ezhil',2:'Manju',3:'Aravinth'}\n",
    "def test(employee):\n",
    "    new={4:'Anu'}\n",
    "    employee.update(new)\n",
    "    print(\"Inside function \",employee)\n",
    "    return\n",
    "\n",
    "print(\"Before function call\",employee)\n",
    "test(employee)\n",
    "print(\"Outside function \",employee)\n"
   ]
  },
  {
   "cell_type": "code",
   "execution_count": 5,
   "metadata": {},
   "outputs": [
    {
     "name": "stdout",
     "output_type": "stream",
     "text": [
      "1\n",
      "2\n"
     ]
    }
   ],
   "source": [
    "#Variable Arguments\n",
    "def variable_arguments(*mytuple):\n",
    "    for i in mytuple:\n",
    "        print(i)\n",
    "    return\n",
    "\n",
    "variable_arguments(1,2)"
   ]
  },
  {
   "cell_type": "code",
   "execution_count": 6,
   "metadata": {},
   "outputs": [
    {
     "name": "stdout",
     "output_type": "stream",
     "text": [
      "1\n",
      "2\n",
      "Hello\n",
      "World\n"
     ]
    }
   ],
   "source": [
    "variable_arguments(1,2,\"Hello\",\"World\")"
   ]
  },
  {
   "cell_type": "code",
   "execution_count": 10,
   "metadata": {},
   "outputs": [
    {
     "name": "stdout",
     "output_type": "stream",
     "text": [
      "60\n"
     ]
    }
   ],
   "source": [
    "#Anonymous Function\n",
    "product = lambda var1,var2 : (var1 * var2)\n",
    "print(product(12,5))"
   ]
  },
  {
   "cell_type": "code",
   "execution_count": 13,
   "metadata": {},
   "outputs": [
    {
     "data": {
      "text/plain": [
       "27.0"
      ]
     },
     "execution_count": 13,
     "metadata": {},
     "output_type": "execute_result"
    }
   ],
   "source": [
    "#Module - Module is a python script in that we can have class,methods and variable declaration.\n",
    "#The main advantange of using module is we can import moudules as required\n",
    "import math\n",
    "math.pow(3,3)\n",
    "\n",
    "#Here math is a moudule and pow is a method available in the math module\n"
   ]
  },
  {
   "cell_type": "code",
   "execution_count": null,
   "metadata": {},
   "outputs": [],
   "source": []
  }
 ],
 "metadata": {
  "kernelspec": {
   "display_name": "Python 3",
   "language": "python",
   "name": "python3"
  },
  "language_info": {
   "codemirror_mode": {
    "name": "ipython",
    "version": 3
   },
   "file_extension": ".py",
   "mimetype": "text/x-python",
   "name": "python",
   "nbconvert_exporter": "python",
   "pygments_lexer": "ipython3",
   "version": "3.7.1"
  }
 },
 "nbformat": 4,
 "nbformat_minor": 2
}
