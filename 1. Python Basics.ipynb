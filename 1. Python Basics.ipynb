{
 "cells": [
  {
   "cell_type": "code",
   "execution_count": 20,
   "metadata": {},
   "outputs": [
    {
     "data": {
      "text/plain": [
       "'This is String1'"
      ]
     },
     "execution_count": 20,
     "metadata": {},
     "output_type": "execute_result"
    }
   ],
   "source": [
    "# String variable declaration. We can enclose string value with single quote,double quotes and 3 double quotes.\n",
    "str1=\"This is String1\"\n",
    "str1\n",
    "# The object 'This is String1' will be created and it refers to the variable 'str1'"
   ]
  },
  {
   "cell_type": "code",
   "execution_count": 21,
   "metadata": {},
   "outputs": [
    {
     "data": {
      "text/plain": [
       "'Hello This is String2 \\nwith new line'"
      ]
     },
     "execution_count": 21,
     "metadata": {},
     "output_type": "execute_result"
    }
   ],
   "source": [
    "# Declaring string in multiple line by enclosing with triple double quotes\n",
    "str2=\"\"\"Hello This is String2 \n",
    "with new line\"\"\"\n",
    "str2"
   ]
  },
  {
   "cell_type": "code",
   "execution_count": 22,
   "metadata": {},
   "outputs": [
    {
     "name": "stdout",
     "output_type": "stream",
     "text": [
      "This is String1\n",
      "Hello This is String2 \n",
      "with new line\n"
     ]
    }
   ],
   "source": [
    "# Multiple statments in single line\n",
    "print(str1);print(str2)"
   ]
  },
  {
   "cell_type": "code",
   "execution_count": 22,
   "metadata": {},
   "outputs": [
    {
     "name": "stdout",
     "output_type": "stream",
     "text": [
      "String\n",
      "100\n",
      "10.1\n",
      "None\n",
      "10\n"
     ]
    }
   ],
   "source": [
    "strVar=\"String\" # String variable\n",
    "numVar=100 #Intger\n",
    "floatVar=10.10 #Decimal Variable\n",
    "charVar=None #Empy Variable\n",
    "var1, var2, var3 = 200,20.20,\"Ezhil\" #Mutiple variable assignment in single line\n",
    "print(strVar)\n",
    "print(numVar)\n",
    "print(floatVar)\n",
    "print(charVar)\n",
    "a=10\n",
    "print(a)\n",
    "del a # Deleting variable 'a'\n",
    "\n"
   ]
  },
  {
   "cell_type": "code",
   "execution_count": 23,
   "metadata": {},
   "outputs": [
    {
     "name": "stdout",
     "output_type": "stream",
     "text": [
      "(8+5j)\n"
     ]
    }
   ],
   "source": [
    "#Adding complex numbers\n",
    "x=3+7j\n",
    "y=5-2j\n",
    "z=x+y\n",
    "print(z)"
   ]
  },
  {
   "cell_type": "code",
   "execution_count": 26,
   "metadata": {},
   "outputs": [
    {
     "name": "stdout",
     "output_type": "stream",
     "text": [
      "H\n",
      "Hello\n",
      "World\n"
     ]
    }
   ],
   "source": [
    "#String Operations\n",
    "str=\"Hello World\"\n",
    "print(str[0]) #Getting first character from the string str\n",
    "print(str[0:5]) #Substring[startingPoint:length]\n",
    "print(str[6:])  #Extracting string from 6th position to till end of string 'str'"
   ]
  },
  {
   "cell_type": "code",
   "execution_count": 31,
   "metadata": {},
   "outputs": [
    {
     "name": "stdout",
     "output_type": "stream",
     "text": [
      "1\n",
      "[3, 'String1', 'String2', 'String3', (2+6j), (3-2j)]\n",
      "[1, 2, 3, 'String1', 'String2', 'String3', (2+6j), (3-2j), 1, 2, 3, 'String1', 'String2', 'String3', (2+6j), (3-2j)]\n",
      "[1, 2, 3, 'String1', 'String2', 'String3', (2+6j), (3-2j), 10, 20, 'Hello', 'World']\n"
     ]
    }
   ],
   "source": [
    "#List - It can contain hybrid data type and its mutable(Object can be modified). It's enclosed with square brackets.\n",
    "myList=[1,2,3,\"String1\",\"String2\",\"String3\",(2+6j),(3-2j)]\n",
    "yourList=[10,20,\"Hello\",\"World\"]\n",
    "print(myList[0])\n",
    "print(myList[2:])\n",
    "print(myList * 2)\n",
    "newList= myList + yourList #Adding two list\n",
    "print(newList)"
   ]
  },
  {
   "cell_type": "code",
   "execution_count": 34,
   "metadata": {},
   "outputs": [
    {
     "name": "stdout",
     "output_type": "stream",
     "text": [
      "1\n",
      "(3, 'String1', 'String2', 'String3', (2+6j), (3-2j))\n",
      "(1, 2, 3, 'String1', 'String2', 'String3', (2+6j), (3-2j), 1, 2, 3, 'String1', 'String2', 'String3', (2+6j), (3-2j))\n"
     ]
    }
   ],
   "source": [
    "#Tuple - It can contain hybrid data type and its immutable(Object can't be modified). It's enclosed with brackets\n",
    "myTuple=(1,2,3,\"String1\",\"String2\",\"String3\",(2+6j),(3-2j))\n",
    "print(myTuple[0])\n",
    "print(myTuple[2:])\n",
    "print(myTuple * 2)"
   ]
  },
  {
   "cell_type": "code",
   "execution_count": 5,
   "metadata": {},
   "outputs": [
    {
     "name": "stdout",
     "output_type": "stream",
     "text": [
      "{'ezhil': 'ezhil@gmail.com', 'manju': 'manju@gmail.com'}\n",
      "{'apple': 'fruit', 'samsung': 'mobile phone', 7: 'It is a number'}\n",
      "dict_keys(['apple', 'samsung', 7])\n",
      "dict_values(['fruit', 'mobile phone', 'It is a number'])\n"
     ]
    }
   ],
   "source": [
    "#Dictionaries - It is key value pair. It's eclosed with braces.\n",
    "emailAddrDict={}\n",
    "emailAddrDict[\"ezhil\"]=\"ezhil@gmail.com\"\n",
    "emailAddrDict[\"manju\"]=\"manju@gmail.com\"\n",
    "print(emailAddrDict)\n",
    "testDict={'apple':'fruit','samsung':'mobile phone',7:'It is a number'}\n",
    "print(testDict)\n",
    "print(testDict.keys())\n",
    "print(testDict.values())\n"
   ]
  },
  {
   "cell_type": "code",
   "execution_count": 12,
   "metadata": {},
   "outputs": [
    {
     "name": "stdout",
     "output_type": "stream",
     "text": [
      "56\n",
      "100.0\n",
      "12\n",
      "('T', 'u', 'p', 'l', 'e')\n",
      "['L', 'i', 's', 't']\n",
      "A\n",
      "97\n",
      "0xf\n",
      "0o17\n",
      "0b1111\n"
     ]
    }
   ],
   "source": [
    "#Data type Conversations\n",
    "print(int(56.43)) # Converting to integer value from decimal value\n",
    "print(float(100)) # Converting to decimal value from integer value\n",
    "print(str(12))   # Converting to string value from integer value\n",
    "print(tuple('Tuple'))\n",
    "print(list('List'))\n",
    "print(chr(65))   #\n",
    "print(ord('a'))\n",
    "print(hex(15))\n",
    "print(oct(15))\n",
    "print(bin(15))"
   ]
  },
  {
   "cell_type": "code",
   "execution_count": 25,
   "metadata": {},
   "outputs": [
    {
     "name": "stdout",
     "output_type": "stream",
     "text": [
      "['a', 'b', 'c', 'd']\n",
      "['apple', 'ball', 'cat', 'doll']\n"
     ]
    }
   ],
   "source": [
    "testMap={'b':'ball','a':'apple','d':'doll','c':'cat'}\n",
    "type(testMap)\n",
    "print([k for (k,v) in sorted(testMap.items())])\n",
    "print([v for (k,v) in sorted(testMap.items())])\n"
   ]
  },
  {
   "cell_type": "code",
   "execution_count": 45,
   "metadata": {},
   "outputs": [
    {
     "name": "stdout",
     "output_type": "stream",
     "text": [
      "(12+5) =  17\n",
      "(12-5) =  7\n",
      "(12*5) =  60\n",
      "(12/5) =  2.4\n",
      "(12%5) =  2\n",
      "pow(6,3) =  216\n",
      "\n",
      "(5>6) =  False\n",
      "(5<6) =  True\n",
      "\n",
      "(5==6 or 6>5) =  True\n",
      "\n",
      "99 in mylist =  True\n"
     ]
    }
   ],
   "source": [
    "\"\"\"\n",
    "Operators\n",
    "********\n",
    "1. Arithmetic Operators    -> +, -, *, /, %, **\n",
    "2. Logical Operators       -> and, or\n",
    "3. Comparision Operators   -> >, >=, <, <=\n",
    "4. Bitwise Operators       -> |, &, ^\n",
    "5. Conditional Operators   -> ==, !=\n",
    "6. Membership Operator     -> in - Checks whether the given object present in the set or not\n",
    "7. Identity Operator       -> is - Returns true if the memory location of the objects are same. (i.e) Datatype and value is same\n",
    "\"\"\"\n",
    "print('(12+5) = ',12+5)\n",
    "print('(12-5) = ',12-5)\n",
    "print('(12*5) = ',12*5)\n",
    "print('(12/5) = ',12/5)\n",
    "print('(12%5) = ',12%5)\n",
    "print('pow(6,3) = ',6**3)\n",
    "print()\n",
    "print('(5>6) = ',5>6)\n",
    "print('(5<6) = ',5<6)\n",
    "print()\n",
    "print('(5==6 or 6>5) = ',5>6 or 6>5)\n",
    "print()\n",
    "mylist=[1,3,17,19,23,27,29]\n",
    "print('99 in mylist = ',99 not in mylist)# Membership Operator\n",
    "\n",
    "a=10\n",
    "b=10\n",
    "\n"
   ]
  },
  {
   "cell_type": "code",
   "execution_count": 21,
   "metadata": {},
   "outputs": [
    {
     "name": "stdout",
     "output_type": "stream",
     "text": [
      "  # Hel#llo\n"
     ]
    }
   ],
   "source": [
    "var=\"  # Hel#llo#### # #  #\"\n",
    "print(var.rstrip(\" #\"))"
   ]
  }
 ],
 "metadata": {
  "kernelspec": {
   "display_name": "Python 3",
   "language": "python",
   "name": "python3"
  },
  "language_info": {
   "codemirror_mode": {
    "name": "ipython",
    "version": 3
   },
   "file_extension": ".py",
   "mimetype": "text/x-python",
   "name": "python",
   "nbconvert_exporter": "python",
   "pygments_lexer": "ipython3",
   "version": "3.7.1"
  }
 },
 "nbformat": 4,
 "nbformat_minor": 2
}
