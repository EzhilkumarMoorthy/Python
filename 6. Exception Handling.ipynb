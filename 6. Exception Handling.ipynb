{
 "cells": [
  {
   "cell_type": "code",
   "execution_count": 8,
   "metadata": {},
   "outputs": [
    {
     "name": "stdout",
     "output_type": "stream",
     "text": [
      "Enter Numerator..\n",
      "12\n",
      "Enter Denominator..\n",
      "0\n",
      "Cannot divide by Zero\n",
      "Enter Numerator..\n",
      "12\n",
      "Enter Denominator..\n",
      "3\n",
      "Result is  4.0\n"
     ]
    }
   ],
   "source": [
    "issuccess = True\n",
    "while issuccess:\n",
    "    print(\"Enter Numerator..\")\n",
    "    num = input()\n",
    "    print(\"Enter Denominator..\")\n",
    "    den = input()\n",
    "    try:\n",
    "        res = int(num) / int(den)\n",
    "    except Exception as e:\n",
    "        print(\"Cannot divide by Zero\")\n",
    "    else:\n",
    "        print(\"Result is \",res)\n",
    "        issuccess = False\n",
    "    "
   ]
  },
  {
   "cell_type": "code",
   "execution_count": 3,
   "metadata": {},
   "outputs": [
    {
     "name": "stdout",
     "output_type": "stream",
     "text": [
      "asf\n"
     ]
    }
   ],
   "source": [
    "print(\"asf\")"
   ]
  },
  {
   "cell_type": "code",
   "execution_count": null,
   "metadata": {},
   "outputs": [],
   "source": []
  }
 ],
 "metadata": {
  "kernelspec": {
   "display_name": "Python 3",
   "language": "python",
   "name": "python3"
  },
  "language_info": {
   "codemirror_mode": {
    "name": "ipython",
    "version": 3
   },
   "file_extension": ".py",
   "mimetype": "text/x-python",
   "name": "python",
   "nbconvert_exporter": "python",
   "pygments_lexer": "ipython3",
   "version": "3.7.1"
  }
 },
 "nbformat": 4,
 "nbformat_minor": 2
}
